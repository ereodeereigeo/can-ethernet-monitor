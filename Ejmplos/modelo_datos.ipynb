{
 "cells": [
  {
   "cell_type": "code",
   "execution_count": 1,
   "metadata": {},
   "outputs": [],
   "source": [
    "dicc_variables = {\n",
    "            b'400': [['ident_m1', 8, 'uint32'], ['tritium_id_m1', 8, 'uint32']],\n",
    "            b'440': [['ident_m2', 8, 'uint32'], ['tritium_id_m2', 8, 'uint32']],\n",
    "            b'401': [['receive_error_count_m1', 2, 'uint8'], ['transmit_error_count_m1', 2, 'uint8'],\n",
    "                     ['active_motor_m1', 4, 'uint16'], ['error_flags_m1', 4, 'uint16'], ['limit_flags_m1', 4, 'uint16']],\n",
    "            b'441': [['receive_error_count_m2', 2, 'uint8'], ['transmit_error_count_m2', 2, 'uint8'],\n",
    "                     ['active_motor_m2', 4, 'uint16'], ['error_flags_m2', 4, 'uint16'], ['limit_flags_m2', 4, 'uint16']],\n",
    "            b'402': [['bus_current_m1', 8, 'float32'], ['bus_voltage_m1', 8, 'float32']],\n",
    "            b'442': [['bus_current_m2', 8, 'float32'], ['bus_voltage_m2', 8, 'float32']],\n",
    "            b'403': [['velocity_ms_m1', 8, 'float32'], ['velocity_rpm_m1', 8, 'float32']],\n",
    "            b'443': [['velocity_ms_m2', 8, 'float32'], ['velocity_rpm_m2', 8, 'float32']],\n",
    "            b'404': [['phase_c_current_m1', 8, 'float32'], ['phase_b_current_m1', 8, 'float32']],\n",
    "            b'444': [['phase_c_current_m2', 8, 'float32'], ['phase_b_current_m2', 8, 'float32']],\n",
    "            b'405': [['vd_m1', 8, 'float32'], ['vq_m1', 8, 'float32']],\n",
    "            b'445': [['vd_m2', 8, 'float32'], ['vq_m2', 8, 'float32']],\n",
    "            b'406': [['id_m1', 8, 'float32'], ['iq_m1', 8, 'float32']],\n",
    "            b'446': [['id_m2', 8, 'float32'], ['iq_m2', 8, 'float32']],\n",
    "            b'407': [['bemfd_m1', 8, 'float32'], ['bemfq_m1', 8, 'float32']],\n",
    "            b'447': [['bemfd_m2', 8, 'float32'], ['bemfq_m2', 8, 'float32']],\n",
    "            b'408': [['15v_supply_m1', 8, 'float32'], ['reservado', 8, 'nada']],\n",
    "            b'448': [['15v_supply_m2', 8, 'float32'], ['reservado', 8, 'nada']],\n",
    "            b'409': [['3.3v_supply_m1', 8, 'float32'], ['1.9v_supply_m1', 8, 'float32']],\n",
    "            b'449': [['3.3v_supply_m2', 8, 'float32'], ['1.9v_supply_m2', 8, 'float32']],\n",
    "            b'40b': [['heat_sink_temp_m1', 8, 'float32'], ['motor_temp_m1', 8, 'float32']],\n",
    "            b'44b': [['heat_sink_temp_m2', 8, 'float32'], ['motor_temp_m2', 8, 'float32']],\n",
    "            b'40c': [['reservado', 8, 'nada'], ['dsp_board_temp_m1', 8, 'float32']],\n",
    "            b'44c': [['reservado', 8, 'nada'], ['dsp_board_temp_m1', 8, 'float32']],\n",
    "            b'40e': [['ah_m1', 8, 'float32'], ['odometer_m1', 8, 'float32']],\n",
    "            b'44e': [['ah_m1', 8, 'float32'], ['odometer_m1', 8, 'float32']],\n",
    "            b'600': [['bmu_hearthbeat', 8, 'data_u32'], ['serial_number', 8, 'data_u32']],\n",
    "            b'601': [['cmu_serial_number_1', 8, 'data_u32'], ['pcb_temperature_1', 4, 'int16'],\n",
    "                     ['cell_temperature_1', 4, 'int16']],\n",
    "            b'604': [['cmu_serial_number_2', 8, 'data_u32'], ['pcb_temperature_2', 4, 'int16'],\n",
    "                     ['cell_temperature_2', 4, 'int16']],\n",
    "            b'607': [['cmu_serial_number_3', 8, 'data_u32'], ['pcb_temperature_3', 4, 'int16'],\n",
    "                     ['cell_temperature_3', 4, 'int16']],\n",
    "            b'60a': [['cmu_serial_number_4', 8, 'data_u32'], ['pcb_temperature_4', 4, 'int16'],\n",
    "                     ['cell_temperature_4', 4, 'int16']],\n",
    "            b'60d': [['cmu_serial_number_5', 8, 'data_u32'], ['pcb_temperature_5', 4, 'int16'],\n",
    "                     ['cell_temperature_5', 4, 'int16']],\n",
    "            b'610': [['cmu_serial_number_6', 8, 'data_u32'], ['pcb_temperature_6', 4, 'int16'],\n",
    "                     ['cell_temperature_6', 4, 'int16']],\n",
    "            b'602': [['cell0_voltage_1', 4, 'int16'], ['cell1_voltage_1', 4, 'int16'], ['cell2_voltage_1', 4, 'int16'],\n",
    "                     ['cell3_voltage_1', 4, 'int16']],\n",
    "            b'605': [['cell0_voltage_2', 4, 'int16'], ['cell1_voltage_2', 4, 'int16'], ['cell2_voltage_2', 4, 'int16'],\n",
    "                     ['cell3_voltage_2', 4, 'int16']],\n",
    "            b'608': [['cell0_voltage_3', 4, 'int16'], ['cell1_voltage_3', 4, 'int16'], ['cell2_voltage_3', 4, 'int16'],\n",
    "                     ['cell3_voltage_3', 4, 'int16']],\n",
    "            b'60b': [['cell0_voltage_4', 4, 'int16'], ['cell1_voltage_4', 4, 'int16'], ['cell2_voltage_4', 4, 'int16'],\n",
    "                     ['cell3_voltage_4', 4, 'int16']],\n",
    "            b'60e': [['cell0_voltage_5', 4, 'int16'], ['cell1_voltage_5', 4, 'int16'], ['cell2_voltage_5', 4, 'int16'],\n",
    "                     ['cell3_voltage_5', 4, 'int16']],\n",
    "            b'611': [['cell0_voltage_6', 4, 'int16'], ['cell1_voltage_6', 4, 'int16'], ['cell2_voltage_6', 4, 'int16'],\n",
    "                     ['cell3_voltage_6', 4, 'int16']],\n",
    "            b'603': [['cell4_voltage_1', 4, 'int16'], ['cell5_voltage_1', 4, 'int16'], ['cell6_voltage_1', 4, 'int16'],\n",
    "                     ['cell7_voltage_1', 4, 'int16']],\n",
    "            b'606': [['cell4_voltage_2', 4, 'int16'], ['cell5_voltage_2', 4, 'int16'], ['cell6_voltage_2', 4, 'int16'],\n",
    "                     ['cell7_voltage_2', 4, 'int16']],\n",
    "            b'609': [['cell4_voltage_3', 4, 'int16'], ['cell5_voltage_3', 4, 'int16'], ['cell6_voltage_3', 4, 'int16'],\n",
    "                     ['cell7_voltage_3', 4, 'int16']],\n",
    "            b'60c': [['cell4_voltage_4', 4, 'int16'], ['cell5_voltage_4', 4, 'int16'], ['cell6_voltage_4', 4, 'int16'],\n",
    "                     ['cell7_voltage_4', 4, 'int16']],\n",
    "            b'60f': [['cell4_voltage_5', 4, 'int16'], ['cell5_voltage_5', 4, 'int16'], ['cell6_voltage_5', 4, 'int16'],\n",
    "                     ['cell7_voltage_5', 4, 'int16']],\n",
    "            b'612': [['cell4_voltage_6', 4, 'int16'], ['cell5_voltage_6', 4, 'int16'], ['cell6_voltage_6', 4, 'int16'],\n",
    "                     ['cell7_voltage_6', 4, 'int16']],\n",
    "            b'6f4': [['soc_ah', 8, 'float_32'], ['soc_percentage', 8, 'float_32']],\n",
    "            b'6f5': [['balance_soc_ah', 8, 'float_32'], ['balance_soc_percentage', 8, 'float_32']],\n",
    "            b'6f6': [['charging_cell_voltage_error', 4, 'int16'], ['cell_temperature_margin', 4, 'int16'],\n",
    "                     ['discharging_cell_voltage_error', 4, 'int16'], ['total_pack_capacity', 4, 'uint16']],\n",
    "            b'6f7': [['precharge_contactor_status', 2, 'uint8'], ['precharge_state', 2, 'uint8'], ['12v_contactor', 4, 'uint16']\n",
    "                , ['reservado', 4, 'nada'],\n",
    "                     ['precharge_timer', 2, 'uint8'], ['precharge_timer_counter', 2, 'uint8']],\n",
    "            b'6f8': [['minimum_cell_voltage', 4, 'uint16'], ['maximum_cell_voltage', 4, 'uint16'],\n",
    "                     ['cmu_number_minv', 2, 'uint8'], ['cell_number_minv', 2, 'uint8'], ['cmu_number_maxv', 2, 'uint8'],\n",
    "                     ['cell_number_maxv', 2, 'uint8']],\n",
    "            b'6f9': [['minimum_cell_temp', 4, 'uint16'], ['maximum_cell_temp', 4, 'uint16'], ['cmu_number_mint', 2, 'uint8'],\n",
    "                     ['reservado', 2, 'nada'],\n",
    "                     ['cmu_number_maxt', 2, 'uint8'], ['reservado', 2, 'nada']],\n",
    "            b'6fa': [['battery_voltage', 8, 'data_u32'], ['battery_current', 8, 'data_u32']],\n",
    "            b'6fb': [['battery_pack_status', 16, 'despues']],\n",
    "            b'6fc': [['fan_speed0', 4, 'uint16'], ['fan_speed1', 4, 'uint16'], ['consumption_fans_contactors', 4, 'uint16'],\n",
    "                     ['consumption_cmus', 4, 'uint16']],\n",
    "            b'6fd': [['extended_battery_status', 16, 'despues']]}"
   ]
  },
  {
   "cell_type": "code",
   "execution_count": 7,
   "metadata": {},
   "outputs": [],
   "source": [
    "dicc_vacio = {}\n",
    "modelo = {\n",
    "          'largo': 0,\n",
    "          'tipo': None\n",
    "        }\n",
    "\n",
    "for llave, elemento in dicc_variables.iteritems():\n",
    "    identificadores = [ident[0] for ident in elemento]\n",
    "    dicc_vacio[llave] = dict.fromkeys(identificadores)\n",
    "    for index, identificador in enumerate(identificadores):\n",
    "        dicc_vacio[llave][identificador] = modelo\n",
    "        dicc_vacio[llave][identificador]['largo'] = elemento[index][1]\n",
    "        dicc_vacio[llave][identificador]['tipo'] = elemento[index][2]"
   ]
  },
  {
   "cell_type": "code",
   "execution_count": 9,
   "metadata": {},
   "outputs": [
    {
     "data": {
      "text/plain": [
       "['tritium_id_m1', 'ident_m1']"
      ]
     },
     "execution_count": 9,
     "output_type": "execute_result",
     "metadata": {}
    }
   ],
   "source": [
    "dicc_vacio[b'400'].keys()"
   ]
  },
  {
   "cell_type": "code",
   "execution_count": null,
   "metadata": {},
   "outputs": [],
   "source": [
    ""
   ]
  }
 ],
 "metadata": {
  "kernelspec": {
   "display_name": "Python 2",
   "language": "python",
   "name": "python2"
  },
  "language_info": {
   "codemirror_mode": {
    "name": "ipython",
    "version": 2.0
   },
   "file_extension": ".py",
   "mimetype": "text/x-python",
   "name": "python",
   "nbconvert_exporter": "python",
   "pygments_lexer": "ipython2",
   "version": "2.7.10"
  }
 },
 "nbformat": 4,
 "nbformat_minor": 0
}